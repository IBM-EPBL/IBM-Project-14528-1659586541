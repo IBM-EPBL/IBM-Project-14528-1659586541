{
  "nbformat": 4,
  "nbformat_minor": 0,
  "metadata": {
    "colab": {
      "provenance": []
    },
    "kernelspec": {
      "name": "python3",
      "display_name": "Python 3"
    },
    "language_info": {
      "name": "python"
    }
  },
  "cells": [
    {
      "cell_type": "code",
      "execution_count": 1,
      "metadata": {
        "id": "1XLjhJXgCGUz"
      },
      "outputs": [],
      "source": [
        "#Importing Libraries\n",
        "\n",
        "#Locating and loading datasets\n",
        "import pathlib\n",
        "from pathlib import Path\n",
        "import os, gc, glob, random\n",
        "from PIL import Image\n",
        "\n",
        "#DataManagement and matrix calculations\n",
        "import pandas as pd\n",
        "import numpy as np\n",
        "\n",
        "#Model Building\n",
        "import tensorflow as tf\n",
        "import keras \n",
        "import keras.backend as K\n",
        "from keras.optimizers import SGD, Adam, Adagrad, RMSprop\n",
        "from keras.applications import *\n",
        "from keras.preprocessing import *\n",
        "from keras.preprocessing.image import ImageDataGenerator\n",
        "from keras.callbacks import EarlyStopping, ModelCheckpoint\n",
        "from keras.models import Sequential\n",
        "from keras.layers import Dense, Conv2D, MaxPool2D, Flatten, Activation, BatchNormalization,Dropout\n",
        "from keras.models import Model\n",
        "from keras.utils.np_utils import to_categorical\n",
        "from sklearn.model_selection import train_test_split\n",
        "\n",
        "# Data Visualization\n",
        "import matplotlib.pyplot as plt\n",
        "\n",
        "#Loading and testing models\n",
        "from keras.models import load_model\n",
        "from keras.models import model_from_json\n",
        "\n",
        "# Directory operations\n",
        "import os\n",
        "from os import listdir"
      ]
    }
  ]
}